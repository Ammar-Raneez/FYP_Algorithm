{
 "cells": [
  {
   "cell_type": "code",
   "execution_count": 1,
   "id": "3bd1578e",
   "metadata": {},
   "outputs": [],
   "source": [
    "import numpy as np\n",
    "import pandas as pd\n",
    "import matplotlib.pyplot as plt\n",
    "import tensorflow as tf\n",
    "import requests\n",
    "\n",
    "from ltc import LTCCell"
   ]
  },
  {
   "cell_type": "code",
   "execution_count": 2,
   "id": "c9ba0f99",
   "metadata": {},
   "outputs": [],
   "source": [
    "url = 'http://api.scraperlink.com/investpy/?email=your@email.com&type=historical_data&product=cryptos&symbol=BTC&from_date=10/01/2013&to_date=10/30/2022'\n",
    "response = requests.request('GET', url)\n",
    "prices = response.json()['data']\n",
    "data = pd.DataFrame(prices)"
   ]
  },
  {
   "cell_type": "code",
   "execution_count": 3,
   "id": "9d9f6cdd",
   "metadata": {},
   "outputs": [
    {
     "data": {
      "text/html": [
       "<div>\n",
       "<style scoped>\n",
       "    .dataframe tbody tr th:only-of-type {\n",
       "        vertical-align: middle;\n",
       "    }\n",
       "\n",
       "    .dataframe tbody tr th {\n",
       "        vertical-align: top;\n",
       "    }\n",
       "\n",
       "    .dataframe thead th {\n",
       "        text-align: right;\n",
       "    }\n",
       "</style>\n",
       "<table border=\"1\" class=\"dataframe\">\n",
       "  <thead>\n",
       "    <tr style=\"text-align: right;\">\n",
       "      <th></th>\n",
       "      <th>direction_color</th>\n",
       "      <th>rowDate</th>\n",
       "      <th>rowDateRaw</th>\n",
       "      <th>rowDateTimestamp</th>\n",
       "      <th>last_close</th>\n",
       "      <th>last_open</th>\n",
       "      <th>last_max</th>\n",
       "      <th>last_min</th>\n",
       "      <th>volume</th>\n",
       "      <th>volumeRaw</th>\n",
       "      <th>change_precent</th>\n",
       "      <th>last_closeRaw</th>\n",
       "      <th>last_openRaw</th>\n",
       "      <th>last_maxRaw</th>\n",
       "      <th>last_minRaw</th>\n",
       "      <th>change_precentRaw</th>\n",
       "    </tr>\n",
       "  </thead>\n",
       "  <tbody>\n",
       "    <tr>\n",
       "      <th>0</th>\n",
       "      <td>redFont</td>\n",
       "      <td>Oct 30, 2022</td>\n",
       "      <td>1667088000</td>\n",
       "      <td>2022-10-30T00:00:00Z</td>\n",
       "      <td>20,626.3</td>\n",
       "      <td>20,809.4</td>\n",
       "      <td>20,922.3</td>\n",
       "      <td>20,522.5</td>\n",
       "      <td>207.63K</td>\n",
       "      <td>207628</td>\n",
       "      <td>-0.88</td>\n",
       "      <td>20626.31250000000000</td>\n",
       "      <td>20809.38867187500000</td>\n",
       "      <td>20922.32031250000000</td>\n",
       "      <td>20522.49414062500000</td>\n",
       "      <td>-0.881842</td>\n",
       "    </tr>\n",
       "    <tr>\n",
       "      <th>1</th>\n",
       "      <td>greenFont</td>\n",
       "      <td>Oct 29, 2022</td>\n",
       "      <td>1667001600</td>\n",
       "      <td>2022-10-29T00:00:00Z</td>\n",
       "      <td>20,809.8</td>\n",
       "      <td>20,594.2</td>\n",
       "      <td>21,038.1</td>\n",
       "      <td>20,561.9</td>\n",
       "      <td>276.54K</td>\n",
       "      <td>276542</td>\n",
       "      <td>1.05</td>\n",
       "      <td>20809.82226562500000</td>\n",
       "      <td>20594.15820312500000</td>\n",
       "      <td>21038.09179687500000</td>\n",
       "      <td>20561.91015625000000</td>\n",
       "      <td>1.046252</td>\n",
       "    </tr>\n",
       "    <tr>\n",
       "      <th>2</th>\n",
       "      <td>greenFont</td>\n",
       "      <td>Oct 28, 2022</td>\n",
       "      <td>1666915200</td>\n",
       "      <td>2022-10-28T00:00:00Z</td>\n",
       "      <td>20,594.4</td>\n",
       "      <td>20,293.0</td>\n",
       "      <td>20,744.0</td>\n",
       "      <td>20,058.2</td>\n",
       "      <td>318.90K</td>\n",
       "      <td>318902</td>\n",
       "      <td>1.49</td>\n",
       "      <td>20594.35351562500000</td>\n",
       "      <td>20292.96484375000000</td>\n",
       "      <td>20743.99218750000000</td>\n",
       "      <td>20058.22265625000000</td>\n",
       "      <td>1.485588</td>\n",
       "    </tr>\n",
       "    <tr>\n",
       "      <th>3</th>\n",
       "      <td>redFont</td>\n",
       "      <td>Oct 27, 2022</td>\n",
       "      <td>1666828800</td>\n",
       "      <td>2022-10-27T00:00:00Z</td>\n",
       "      <td>20,292.9</td>\n",
       "      <td>20,769.5</td>\n",
       "      <td>20,867.9</td>\n",
       "      <td>20,231.6</td>\n",
       "      <td>365.49K</td>\n",
       "      <td>365494</td>\n",
       "      <td>-2.29</td>\n",
       "      <td>20292.88476562500000</td>\n",
       "      <td>20769.47070312500000</td>\n",
       "      <td>20867.89453125000000</td>\n",
       "      <td>20231.57031250000000</td>\n",
       "      <td>-2.294950</td>\n",
       "    </tr>\n",
       "    <tr>\n",
       "      <th>4</th>\n",
       "      <td>greenFont</td>\n",
       "      <td>Oct 26, 2022</td>\n",
       "      <td>1666742400</td>\n",
       "      <td>2022-10-26T00:00:00Z</td>\n",
       "      <td>20,769.5</td>\n",
       "      <td>20,086.8</td>\n",
       "      <td>20,981.5</td>\n",
       "      <td>20,062.9</td>\n",
       "      <td>427.99K</td>\n",
       "      <td>427991</td>\n",
       "      <td>3.42</td>\n",
       "      <td>20769.53515625000000</td>\n",
       "      <td>20086.81054687500000</td>\n",
       "      <td>20981.51562500000000</td>\n",
       "      <td>20062.91796875000000</td>\n",
       "      <td>3.420209</td>\n",
       "    </tr>\n",
       "  </tbody>\n",
       "</table>\n",
       "</div>"
      ],
      "text/plain": [
       "  direction_color       rowDate  rowDateRaw      rowDateTimestamp last_close  \\\n",
       "0         redFont  Oct 30, 2022  1667088000  2022-10-30T00:00:00Z   20,626.3   \n",
       "1       greenFont  Oct 29, 2022  1667001600  2022-10-29T00:00:00Z   20,809.8   \n",
       "2       greenFont  Oct 28, 2022  1666915200  2022-10-28T00:00:00Z   20,594.4   \n",
       "3         redFont  Oct 27, 2022  1666828800  2022-10-27T00:00:00Z   20,292.9   \n",
       "4       greenFont  Oct 26, 2022  1666742400  2022-10-26T00:00:00Z   20,769.5   \n",
       "\n",
       "  last_open  last_max  last_min   volume  volumeRaw change_precent  \\\n",
       "0  20,809.4  20,922.3  20,522.5  207.63K     207628          -0.88   \n",
       "1  20,594.2  21,038.1  20,561.9  276.54K     276542           1.05   \n",
       "2  20,293.0  20,744.0  20,058.2  318.90K     318902           1.49   \n",
       "3  20,769.5  20,867.9  20,231.6  365.49K     365494          -2.29   \n",
       "4  20,086.8  20,981.5  20,062.9  427.99K     427991           3.42   \n",
       "\n",
       "          last_closeRaw          last_openRaw           last_maxRaw  \\\n",
       "0  20626.31250000000000  20809.38867187500000  20922.32031250000000   \n",
       "1  20809.82226562500000  20594.15820312500000  21038.09179687500000   \n",
       "2  20594.35351562500000  20292.96484375000000  20743.99218750000000   \n",
       "3  20292.88476562500000  20769.47070312500000  20867.89453125000000   \n",
       "4  20769.53515625000000  20086.81054687500000  20981.51562500000000   \n",
       "\n",
       "            last_minRaw  change_precentRaw  \n",
       "0  20522.49414062500000          -0.881842  \n",
       "1  20561.91015625000000           1.046252  \n",
       "2  20058.22265625000000           1.485588  \n",
       "3  20231.57031250000000          -2.294950  \n",
       "4  20062.91796875000000           3.420209  "
      ]
     },
     "execution_count": 3,
     "metadata": {},
     "output_type": "execute_result"
    }
   ],
   "source": [
    "data.head()"
   ]
  },
  {
   "cell_type": "code",
   "execution_count": 4,
   "id": "5643aa5d",
   "metadata": {},
   "outputs": [
    {
     "data": {
      "text/html": [
       "<div>\n",
       "<style scoped>\n",
       "    .dataframe tbody tr th:only-of-type {\n",
       "        vertical-align: middle;\n",
       "    }\n",
       "\n",
       "    .dataframe tbody tr th {\n",
       "        vertical-align: top;\n",
       "    }\n",
       "\n",
       "    .dataframe thead th {\n",
       "        text-align: right;\n",
       "    }\n",
       "</style>\n",
       "<table border=\"1\" class=\"dataframe\">\n",
       "  <thead>\n",
       "    <tr style=\"text-align: right;\">\n",
       "      <th></th>\n",
       "      <th>rowDate</th>\n",
       "      <th>last_closeRaw</th>\n",
       "      <th>last_openRaw</th>\n",
       "      <th>last_maxRaw</th>\n",
       "      <th>last_minRaw</th>\n",
       "    </tr>\n",
       "  </thead>\n",
       "  <tbody>\n",
       "    <tr>\n",
       "      <th>0</th>\n",
       "      <td>Oct 30, 2022</td>\n",
       "      <td>20626.31250000000000</td>\n",
       "      <td>20809.38867187500000</td>\n",
       "      <td>20922.32031250000000</td>\n",
       "      <td>20522.49414062500000</td>\n",
       "    </tr>\n",
       "    <tr>\n",
       "      <th>1</th>\n",
       "      <td>Oct 29, 2022</td>\n",
       "      <td>20809.82226562500000</td>\n",
       "      <td>20594.15820312500000</td>\n",
       "      <td>21038.09179687500000</td>\n",
       "      <td>20561.91015625000000</td>\n",
       "    </tr>\n",
       "    <tr>\n",
       "      <th>2</th>\n",
       "      <td>Oct 28, 2022</td>\n",
       "      <td>20594.35351562500000</td>\n",
       "      <td>20292.96484375000000</td>\n",
       "      <td>20743.99218750000000</td>\n",
       "      <td>20058.22265625000000</td>\n",
       "    </tr>\n",
       "    <tr>\n",
       "      <th>3</th>\n",
       "      <td>Oct 27, 2022</td>\n",
       "      <td>20292.88476562500000</td>\n",
       "      <td>20769.47070312500000</td>\n",
       "      <td>20867.89453125000000</td>\n",
       "      <td>20231.57031250000000</td>\n",
       "    </tr>\n",
       "    <tr>\n",
       "      <th>4</th>\n",
       "      <td>Oct 26, 2022</td>\n",
       "      <td>20769.53515625000000</td>\n",
       "      <td>20086.81054687500000</td>\n",
       "      <td>20981.51562500000000</td>\n",
       "      <td>20062.91796875000000</td>\n",
       "    </tr>\n",
       "  </tbody>\n",
       "</table>\n",
       "</div>"
      ],
      "text/plain": [
       "        rowDate         last_closeRaw          last_openRaw  \\\n",
       "0  Oct 30, 2022  20626.31250000000000  20809.38867187500000   \n",
       "1  Oct 29, 2022  20809.82226562500000  20594.15820312500000   \n",
       "2  Oct 28, 2022  20594.35351562500000  20292.96484375000000   \n",
       "3  Oct 27, 2022  20292.88476562500000  20769.47070312500000   \n",
       "4  Oct 26, 2022  20769.53515625000000  20086.81054687500000   \n",
       "\n",
       "            last_maxRaw           last_minRaw  \n",
       "0  20922.32031250000000  20522.49414062500000  \n",
       "1  21038.09179687500000  20561.91015625000000  \n",
       "2  20743.99218750000000  20058.22265625000000  \n",
       "3  20867.89453125000000  20231.57031250000000  \n",
       "4  20981.51562500000000  20062.91796875000000  "
      ]
     },
     "execution_count": 4,
     "metadata": {},
     "output_type": "execute_result"
    }
   ],
   "source": [
    "# Remove unnecessary columns\n",
    "data.drop(columns=[\n",
    "  'direction_color',\n",
    "  'rowDateRaw',\n",
    "  'rowDateTimestamp',\n",
    "\n",
    "  # Quantity of btc bought or sold\n",
    "  'volume',\n",
    "  'volumeRaw',\n",
    "  'change_precent',\n",
    "  'change_precentRaw',\n",
    "  'last_close',\n",
    "  'last_open',\n",
    "  'last_max',\n",
    "  'last_min'\n",
    "  ],\n",
    "  inplace=True\n",
    ")\n",
    "\n",
    "data.head()"
   ]
  },
  {
   "cell_type": "code",
   "execution_count": 5,
   "id": "d7c2c5af",
   "metadata": {},
   "outputs": [
    {
     "name": "stdout",
     "output_type": "stream",
     "text": [
      "<class 'pandas.core.frame.DataFrame'>\n",
      "RangeIndex: 3317 entries, 0 to 3316\n",
      "Data columns (total 5 columns):\n",
      " #   Column         Non-Null Count  Dtype \n",
      "---  ------         --------------  ----- \n",
      " 0   rowDate        3317 non-null   object\n",
      " 1   last_closeRaw  3317 non-null   object\n",
      " 2   last_openRaw   3317 non-null   object\n",
      " 3   last_maxRaw    3317 non-null   object\n",
      " 4   last_minRaw    3317 non-null   object\n",
      "dtypes: object(5)\n",
      "memory usage: 129.7+ KB\n"
     ]
    }
   ],
   "source": [
    "data.info()"
   ]
  },
  {
   "cell_type": "code",
   "execution_count": 6,
   "id": "428e484a",
   "metadata": {},
   "outputs": [
    {
     "data": {
      "text/plain": [
       "rowDate          0\n",
       "last_closeRaw    0\n",
       "last_openRaw     0\n",
       "last_maxRaw      0\n",
       "last_minRaw      0\n",
       "dtype: int64"
      ]
     },
     "execution_count": 6,
     "metadata": {},
     "output_type": "execute_result"
    }
   ],
   "source": [
    "data.isnull().sum()"
   ]
  },
  {
   "cell_type": "code",
   "execution_count": 7,
   "id": "fd6defd7",
   "metadata": {},
   "outputs": [],
   "source": [
    "# Convert date object to datetime\n",
    "data['rowDate'] = pd.to_datetime(data['rowDate'])\n",
    "\n",
    "# Convert values to floats\n",
    "data = data.astype({\n",
    "    'last_closeRaw': 'float',\n",
    "    'last_openRaw': 'float',\n",
    "    'last_maxRaw': 'float',\n",
    "    'last_minRaw': 'float'\n",
    "})"
   ]
  },
  {
   "cell_type": "code",
   "execution_count": 8,
   "id": "1eb21dbb",
   "metadata": {},
   "outputs": [
    {
     "name": "stdout",
     "output_type": "stream",
     "text": [
      "<class 'pandas.core.frame.DataFrame'>\n",
      "RangeIndex: 3317 entries, 0 to 3316\n",
      "Data columns (total 5 columns):\n",
      " #   Column         Non-Null Count  Dtype         \n",
      "---  ------         --------------  -----         \n",
      " 0   rowDate        3317 non-null   datetime64[ns]\n",
      " 1   last_closeRaw  3317 non-null   float64       \n",
      " 2   last_openRaw   3317 non-null   float64       \n",
      " 3   last_maxRaw    3317 non-null   float64       \n",
      " 4   last_minRaw    3317 non-null   float64       \n",
      "dtypes: datetime64[ns](1), float64(4)\n",
      "memory usage: 129.7 KB\n"
     ]
    }
   ],
   "source": [
    "data.info()"
   ]
  },
  {
   "cell_type": "code",
   "execution_count": 9,
   "id": "0836bfb3",
   "metadata": {},
   "outputs": [
    {
     "data": {
      "text/html": [
       "<div>\n",
       "<style scoped>\n",
       "    .dataframe tbody tr th:only-of-type {\n",
       "        vertical-align: middle;\n",
       "    }\n",
       "\n",
       "    .dataframe tbody tr th {\n",
       "        vertical-align: top;\n",
       "    }\n",
       "\n",
       "    .dataframe thead th {\n",
       "        text-align: right;\n",
       "    }\n",
       "</style>\n",
       "<table border=\"1\" class=\"dataframe\">\n",
       "  <thead>\n",
       "    <tr style=\"text-align: right;\">\n",
       "      <th></th>\n",
       "      <th>rowDate</th>\n",
       "      <th>last_closeRaw</th>\n",
       "      <th>last_openRaw</th>\n",
       "      <th>last_maxRaw</th>\n",
       "      <th>last_minRaw</th>\n",
       "    </tr>\n",
       "  </thead>\n",
       "  <tbody>\n",
       "    <tr>\n",
       "      <th>0</th>\n",
       "      <td>2022-10-30</td>\n",
       "      <td>20626.312500</td>\n",
       "      <td>20809.388672</td>\n",
       "      <td>20922.320312</td>\n",
       "      <td>20522.494141</td>\n",
       "    </tr>\n",
       "    <tr>\n",
       "      <th>1</th>\n",
       "      <td>2022-10-29</td>\n",
       "      <td>20809.822266</td>\n",
       "      <td>20594.158203</td>\n",
       "      <td>21038.091797</td>\n",
       "      <td>20561.910156</td>\n",
       "    </tr>\n",
       "    <tr>\n",
       "      <th>2</th>\n",
       "      <td>2022-10-28</td>\n",
       "      <td>20594.353516</td>\n",
       "      <td>20292.964844</td>\n",
       "      <td>20743.992188</td>\n",
       "      <td>20058.222656</td>\n",
       "    </tr>\n",
       "    <tr>\n",
       "      <th>3</th>\n",
       "      <td>2022-10-27</td>\n",
       "      <td>20292.884766</td>\n",
       "      <td>20769.470703</td>\n",
       "      <td>20867.894531</td>\n",
       "      <td>20231.570312</td>\n",
       "    </tr>\n",
       "    <tr>\n",
       "      <th>4</th>\n",
       "      <td>2022-10-26</td>\n",
       "      <td>20769.535156</td>\n",
       "      <td>20086.810547</td>\n",
       "      <td>20981.515625</td>\n",
       "      <td>20062.917969</td>\n",
       "    </tr>\n",
       "  </tbody>\n",
       "</table>\n",
       "</div>"
      ],
      "text/plain": [
       "     rowDate  last_closeRaw  last_openRaw   last_maxRaw   last_minRaw\n",
       "0 2022-10-30   20626.312500  20809.388672  20922.320312  20522.494141\n",
       "1 2022-10-29   20809.822266  20594.158203  21038.091797  20561.910156\n",
       "2 2022-10-28   20594.353516  20292.964844  20743.992188  20058.222656\n",
       "3 2022-10-27   20292.884766  20769.470703  20867.894531  20231.570312\n",
       "4 2022-10-26   20769.535156  20086.810547  20981.515625  20062.917969"
      ]
     },
     "execution_count": 9,
     "metadata": {},
     "output_type": "execute_result"
    }
   ],
   "source": [
    "data.head()"
   ]
  },
  {
   "cell_type": "code",
   "execution_count": 10,
   "id": "6a8ec0d6",
   "metadata": {},
   "outputs": [],
   "source": [
    "data.rename(\n",
    "    columns={\n",
    "        'last_closeRaw': 'close',\n",
    "        'last_openRaw': 'open',\n",
    "        'last_maxRaw': 'high',\n",
    "        'last_minRaw': 'low',\n",
    "        'rowDate': 'Date'\n",
    "    },\n",
    "    inplace=True\n",
    ")"
   ]
  },
  {
   "cell_type": "code",
   "execution_count": 11,
   "id": "3533749a",
   "metadata": {},
   "outputs": [
    {
     "data": {
      "text/html": [
       "<div>\n",
       "<style scoped>\n",
       "    .dataframe tbody tr th:only-of-type {\n",
       "        vertical-align: middle;\n",
       "    }\n",
       "\n",
       "    .dataframe tbody tr th {\n",
       "        vertical-align: top;\n",
       "    }\n",
       "\n",
       "    .dataframe thead th {\n",
       "        text-align: right;\n",
       "    }\n",
       "</style>\n",
       "<table border=\"1\" class=\"dataframe\">\n",
       "  <thead>\n",
       "    <tr style=\"text-align: right;\">\n",
       "      <th></th>\n",
       "      <th>Date</th>\n",
       "      <th>close</th>\n",
       "      <th>open</th>\n",
       "      <th>high</th>\n",
       "      <th>low</th>\n",
       "    </tr>\n",
       "  </thead>\n",
       "  <tbody>\n",
       "    <tr>\n",
       "      <th>0</th>\n",
       "      <td>2022-10-30</td>\n",
       "      <td>20626.312500</td>\n",
       "      <td>20809.388672</td>\n",
       "      <td>20922.320312</td>\n",
       "      <td>20522.494141</td>\n",
       "    </tr>\n",
       "    <tr>\n",
       "      <th>1</th>\n",
       "      <td>2022-10-29</td>\n",
       "      <td>20809.822266</td>\n",
       "      <td>20594.158203</td>\n",
       "      <td>21038.091797</td>\n",
       "      <td>20561.910156</td>\n",
       "    </tr>\n",
       "    <tr>\n",
       "      <th>2</th>\n",
       "      <td>2022-10-28</td>\n",
       "      <td>20594.353516</td>\n",
       "      <td>20292.964844</td>\n",
       "      <td>20743.992188</td>\n",
       "      <td>20058.222656</td>\n",
       "    </tr>\n",
       "    <tr>\n",
       "      <th>3</th>\n",
       "      <td>2022-10-27</td>\n",
       "      <td>20292.884766</td>\n",
       "      <td>20769.470703</td>\n",
       "      <td>20867.894531</td>\n",
       "      <td>20231.570312</td>\n",
       "    </tr>\n",
       "    <tr>\n",
       "      <th>4</th>\n",
       "      <td>2022-10-26</td>\n",
       "      <td>20769.535156</td>\n",
       "      <td>20086.810547</td>\n",
       "      <td>20981.515625</td>\n",
       "      <td>20062.917969</td>\n",
       "    </tr>\n",
       "  </tbody>\n",
       "</table>\n",
       "</div>"
      ],
      "text/plain": [
       "        Date         close          open          high           low\n",
       "0 2022-10-30  20626.312500  20809.388672  20922.320312  20522.494141\n",
       "1 2022-10-29  20809.822266  20594.158203  21038.091797  20561.910156\n",
       "2 2022-10-28  20594.353516  20292.964844  20743.992188  20058.222656\n",
       "3 2022-10-27  20292.884766  20769.470703  20867.894531  20231.570312\n",
       "4 2022-10-26  20769.535156  20086.810547  20981.515625  20062.917969"
      ]
     },
     "execution_count": 11,
     "metadata": {},
     "output_type": "execute_result"
    }
   ],
   "source": [
    "data.head()"
   ]
  },
  {
   "cell_type": "code",
   "execution_count": 12,
   "id": "0521e3df",
   "metadata": {},
   "outputs": [],
   "source": [
    "data.set_index('Date', inplace=True)"
   ]
  },
  {
   "cell_type": "code",
   "execution_count": 13,
   "id": "1fde8512",
   "metadata": {},
   "outputs": [],
   "source": [
    "btc_prices = pd.DataFrame(data['close']).rename(columns={ 'close': 'Price' })"
   ]
  },
  {
   "cell_type": "code",
   "execution_count": 14,
   "id": "3b31619a",
   "metadata": {},
   "outputs": [
    {
     "data": {
      "text/html": [
       "<div>\n",
       "<style scoped>\n",
       "    .dataframe tbody tr th:only-of-type {\n",
       "        vertical-align: middle;\n",
       "    }\n",
       "\n",
       "    .dataframe tbody tr th {\n",
       "        vertical-align: top;\n",
       "    }\n",
       "\n",
       "    .dataframe thead th {\n",
       "        text-align: right;\n",
       "    }\n",
       "</style>\n",
       "<table border=\"1\" class=\"dataframe\">\n",
       "  <thead>\n",
       "    <tr style=\"text-align: right;\">\n",
       "      <th></th>\n",
       "      <th>Price</th>\n",
       "    </tr>\n",
       "    <tr>\n",
       "      <th>Date</th>\n",
       "      <th></th>\n",
       "    </tr>\n",
       "  </thead>\n",
       "  <tbody>\n",
       "    <tr>\n",
       "      <th>2022-10-30</th>\n",
       "      <td>20626.312500</td>\n",
       "    </tr>\n",
       "    <tr>\n",
       "      <th>2022-10-29</th>\n",
       "      <td>20809.822266</td>\n",
       "    </tr>\n",
       "    <tr>\n",
       "      <th>2022-10-28</th>\n",
       "      <td>20594.353516</td>\n",
       "    </tr>\n",
       "    <tr>\n",
       "      <th>2022-10-27</th>\n",
       "      <td>20292.884766</td>\n",
       "    </tr>\n",
       "    <tr>\n",
       "      <th>2022-10-26</th>\n",
       "      <td>20769.535156</td>\n",
       "    </tr>\n",
       "  </tbody>\n",
       "</table>\n",
       "</div>"
      ],
      "text/plain": [
       "                   Price\n",
       "Date                    \n",
       "2022-10-30  20626.312500\n",
       "2022-10-29  20809.822266\n",
       "2022-10-28  20594.353516\n",
       "2022-10-27  20292.884766\n",
       "2022-10-26  20769.535156"
      ]
     },
     "execution_count": 14,
     "metadata": {},
     "output_type": "execute_result"
    }
   ],
   "source": [
    "btc_prices.head()"
   ]
  },
  {
   "cell_type": "code",
   "execution_count": 15,
   "id": "d33fd9d5",
   "metadata": {},
   "outputs": [
    {
     "data": {
      "image/png": "[encoded data removed]",
      "text/plain": [
       "<Figure size 720x504 with 1 Axes>"
      ]
     },
     "metadata": {
      "needs_background": "light"
     },
     "output_type": "display_data"
    }
   ],
   "source": [
    "# Visualize closing prices\n",
    "import matplotlib.pyplot as plt\n",
    "\n",
    "btc_prices.plot(figsize=(10, 7))\n",
    "plt.ylabel('BTC Price')\n",
    "plt.title('Price of Bitcoin from Oct 2014 to Oct 2022', fontsize=16)\n",
    "plt.legend(fontsize=14);"
   ]
  },
  {
   "cell_type": "code",
   "execution_count": 16,
   "id": "f51d9e86",
   "metadata": {},
   "outputs": [
    {
     "data": {
      "text/html": [
       "<div>\n",
       "<style scoped>\n",
       "    .dataframe tbody tr th:only-of-type {\n",
       "        vertical-align: middle;\n",
       "    }\n",
       "\n",
       "    .dataframe tbody tr th {\n",
       "        vertical-align: top;\n",
       "    }\n",
       "\n",
       "    .dataframe thead th {\n",
       "        text-align: right;\n",
       "    }\n",
       "</style>\n",
       "<table border=\"1\" class=\"dataframe\">\n",
       "  <thead>\n",
       "    <tr style=\"text-align: right;\">\n",
       "      <th></th>\n",
       "      <th>Price</th>\n",
       "    </tr>\n",
       "    <tr>\n",
       "      <th>Date</th>\n",
       "      <th></th>\n",
       "    </tr>\n",
       "  </thead>\n",
       "  <tbody>\n",
       "    <tr>\n",
       "      <th>2013-10-01</th>\n",
       "      <td>140.300003</td>\n",
       "    </tr>\n",
       "    <tr>\n",
       "      <th>2013-10-02</th>\n",
       "      <td>123.000000</td>\n",
       "    </tr>\n",
       "    <tr>\n",
       "      <th>2013-10-03</th>\n",
       "      <td>130.990005</td>\n",
       "    </tr>\n",
       "    <tr>\n",
       "      <th>2013-10-04</th>\n",
       "      <td>136.820007</td>\n",
       "    </tr>\n",
       "    <tr>\n",
       "      <th>2013-10-05</th>\n",
       "      <td>136.699997</td>\n",
       "    </tr>\n",
       "  </tbody>\n",
       "</table>\n",
       "</div>"
      ],
      "text/plain": [
       "                 Price\n",
       "Date                  \n",
       "2013-10-01  140.300003\n",
       "2013-10-02  123.000000\n",
       "2013-10-03  130.990005\n",
       "2013-10-04  136.820007\n",
       "2013-10-05  136.699997"
      ]
     },
     "execution_count": 16,
     "metadata": {},
     "output_type": "execute_result"
    }
   ],
   "source": [
    "# Sort ascending order of prices\n",
    "btc_prices.sort_values('Date', inplace=True)\n",
    "btc_prices.head()"
   ]
  },
  {
   "cell_type": "code",
   "execution_count": 17,
   "id": "ae9f158d",
   "metadata": {},
   "outputs": [],
   "source": [
    "timesteps = btc_prices.index.to_numpy()\n",
    "prices = btc_prices['Price'].to_numpy()"
   ]
  },
  {
   "cell_type": "code",
   "execution_count": 18,
   "id": "c671c9ec",
   "metadata": {},
   "outputs": [
    {
     "data": {
      "text/plain": [
       "(array(['2013-10-01T00:00:00.000000000', '2013-10-02T00:00:00.000000000',\n",
       "        '2013-10-03T00:00:00.000000000', ...,\n",
       "        '2022-10-28T00:00:00.000000000', '2022-10-29T00:00:00.000000000',\n",
       "        '2022-10-30T00:00:00.000000000'], dtype='datetime64[ns]'),\n",
       " array([  140.30000305,   123.        ,   130.99000549, ...,\n",
       "        20594.35351562, 20809.82226562, 20626.3125    ]))"
      ]
     },
     "execution_count": 18,
     "metadata": {},
     "output_type": "execute_result"
    }
   ],
   "source": [
    "timesteps, prices"
   ]
  },
  {
   "cell_type": "code",
   "execution_count": 19,
   "id": "81af47f3",
   "metadata": {},
   "outputs": [
    {
     "data": {
      "text/plain": [
       "((2653,), (664,), (2653,), (664,))"
      ]
     },
     "execution_count": 19,
     "metadata": {},
     "output_type": "execute_result"
    }
   ],
   "source": [
    "# Create sequential splits at a specified point (80% train, 20% test)\n",
    "split_size = int(.8 * len(prices))\n",
    "\n",
    "X_train, y_train = timesteps[:split_size], prices[:split_size]\n",
    "X_test, y_test = timesteps[split_size:], prices[split_size:]\n",
    "\n",
    "X_train.shape, X_test.shape, y_train.shape, y_test.shape"
   ]
  },
  {
   "cell_type": "code",
   "execution_count": 20,
   "id": "ee13c3f9",
   "metadata": {},
   "outputs": [],
   "source": [
    "# Create a helper plotting function\n",
    "def plot_time_series(timesteps, prices, format='.', start=0, end=None, label=None):\n",
    "    plt.plot(timesteps[start:end], prices[start:end], format, label=label)\n",
    "    plt.xlabel('Date')\n",
    "    plt.ylabel('Price')\n",
    "    if label:\n",
    "        plt.legend(fontsize=14)\n",
    "\n",
    "    # Display a grid for easier measurement readings\n",
    "    plt.grid(True)"
   ]
  },
  {
   "cell_type": "code",
   "execution_count": 21,
   "id": "6241d337",
   "metadata": {
    "scrolled": false
   },
   "outputs": [
    {
     "data": {
      "image/png": "[encoded data removed]",
      "text/plain": [
       "<Figure size 432x288 with 1 Axes>"
      ]
     },
     "metadata": {
      "needs_background": "light"
     },
     "output_type": "display_data"
    }
   ],
   "source": [
    "plot_time_series(X_train, y_train, label='Training data')\n",
    "plot_time_series(X_test, y_test, label='Test data')"
   ]
  },
  {
   "cell_type": "markdown",
   "id": "b4522dff",
   "metadata": {},
   "source": [
    "### Create windowed train & test sets"
   ]
  },
  {
   "cell_type": "code",
   "execution_count": 22,
   "id": "e0a1fafc",
   "metadata": {},
   "outputs": [],
   "source": [
    "# predict 1 step at a time\n",
    "HORIZON = 1\n",
    "\n",
    "# use a week worth of timesteps to predict the horizon\n",
    "WINDOW_SIZE = 7"
   ]
  },
  {
   "cell_type": "code",
   "execution_count": 23,
   "id": "bf5b8858",
   "metadata": {},
   "outputs": [],
   "source": [
    "# Create function to label windowed data\n",
    "def get_labelled_windows(x, horizon=1):\n",
    "    return x[:, :-horizon], x[:, -horizon:]"
   ]
  },
  {
   "cell_type": "code",
   "execution_count": 24,
   "id": "243dfc20",
   "metadata": {},
   "outputs": [],
   "source": [
    "# Create a function to make windows across entire time series\n",
    "def make_windows(x, window_size=7, horizon=1):\n",
    "    # Create a window of specific window_size\n",
    "    window_step = np.expand_dims(np.arange(window_size + horizon), axis=0)\n",
    "    \n",
    "    # Create a 2D array of multiple window steps\n",
    "    window_indexes = window_step + np.expand_dims(np.arange(len(x) - (window_size + horizon - 1)), axis=0).T\n",
    "    \n",
    "    windowed_array = x[window_indexes]\n",
    "    \n",
    "    windows, labels = get_labelled_windows(windowed_array, horizon)\n",
    "    return windows, labels"
   ]
  },
  {
   "cell_type": "code",
   "execution_count": 25,
   "id": "2609aa60",
   "metadata": {},
   "outputs": [],
   "source": [
    "full_windows, full_labels = make_windows(prices, WINDOW_SIZE, HORIZON)"
   ]
  },
  {
   "cell_type": "code",
   "execution_count": 26,
   "id": "807180e8",
   "metadata": {},
   "outputs": [
    {
     "data": {
      "text/plain": [
       "(array([[  140.30000305,   123.        ,   130.99000549, ...,\n",
       "           136.69999695,   137.80000305,   135.80000305],\n",
       "        [  123.        ,   130.99000549,   136.82000732, ...,\n",
       "           137.80000305,   135.80000305,   136.49000549],\n",
       "        [  130.99000549,   136.82000732,   136.69999695, ...,\n",
       "           135.80000305,   136.49000549,   139.5       ],\n",
       "        ...,\n",
       "        [19162.60351562, 19204.79882812, 19571.24609375, ...,\n",
       "         20082.66601562, 20769.53515625, 20292.88476562],\n",
       "        [19204.79882812, 19571.24609375, 19331.50195312, ...,\n",
       "         20769.53515625, 20292.88476562, 20594.35351562],\n",
       "        [19571.24609375, 19331.50195312, 20082.66601562, ...,\n",
       "         20292.88476562, 20594.35351562, 20809.82226562]]),\n",
       " array([[  136.49000549],\n",
       "        [  139.5       ],\n",
       "        [  140.41000366],\n",
       "        ...,\n",
       "        [20594.35351562],\n",
       "        [20809.82226562],\n",
       "        [20626.3125    ]]))"
      ]
     },
     "execution_count": 26,
     "metadata": {},
     "output_type": "execute_result"
    }
   ],
   "source": [
    "full_windows, full_labels"
   ]
  },
  {
   "cell_type": "code",
   "execution_count": 27,
   "id": "41306e57",
   "metadata": {},
   "outputs": [],
   "source": [
    "def make_train_test_splits(windows, labels, test_split=.2):\n",
    "    split_size = int(len(windows) * (1 - test_split)) # 80%\n",
    "    train_windows = windows[:split_size]\n",
    "    train_labels = labels[:split_size]\n",
    "    test_windows = windows[split_size:]\n",
    "    test_labels = labels[split_size:]\n",
    "    return train_windows, test_windows, train_labels, test_labels"
   ]
  },
  {
   "cell_type": "code",
   "execution_count": 28,
   "id": "910333fe",
   "metadata": {},
   "outputs": [
    {
     "data": {
      "text/plain": [
       "(2648, 662, 2648, 662)"
      ]
     },
     "execution_count": 28,
     "metadata": {},
     "output_type": "execute_result"
    }
   ],
   "source": [
    "train_windows, test_windows, train_labels, test_labels = make_train_test_splits(full_windows, full_labels)\n",
    "len(train_windows), len(test_windows), len(train_labels), len(test_labels)"
   ]
  },
  {
   "cell_type": "code",
   "execution_count": 29,
   "id": "137689b1",
   "metadata": {
    "scrolled": false
   },
   "outputs": [],
   "source": [
    "model = tf.keras.Sequential([\n",
    "    tf.keras.layers.Input(shape=(WINDOW_SIZE)),\n",
    "    \n",
    "    # Expand dimensions to align with required input shape\n",
    "    tf.keras.layers.Lambda(lambda x: tf.expand_dims(x, axis=1)),\n",
    "    tf.keras.layers.RNN(LTCCell(32), time_major=True),\n",
    "    tf.keras.layers.Dense(HORIZON, activation='linear')\n",
    "])"
   ]
  },
  {
   "cell_type": "code",
   "execution_count": 30,
   "id": "619c2326",
   "metadata": {},
   "outputs": [
    {
     "name": "stdout",
     "output_type": "stream",
     "text": [
      "Model: \"sequential\"\n",
      "_________________________________________________________________\n",
      " Layer (type)                Output Shape              Param #   \n",
      "=================================================================\n",
      " lambda (Lambda)             (None, 1, 7)              0         \n",
      "                                                                 \n",
      " rnn (RNN)                   (1, 32)                   5040      \n",
      "                                                                 \n",
      " dense (Dense)               (1, 1)                    33        \n",
      "                                                                 \n",
      "=================================================================\n",
      "Total params: 5,073\n",
      "Trainable params: 5,073\n",
      "Non-trainable params: 0\n",
      "_________________________________________________________________\n"
     ]
    }
   ],
   "source": [
    "model.summary()"
   ]
  },
  {
   "cell_type": "code",
   "execution_count": 31,
   "id": "9d818069",
   "metadata": {
    "scrolled": false
   },
   "outputs": [
    {
     "name": "stdout",
     "output_type": "stream",
     "text": [
      "Epoch 1/10\n",
      "83/83 [==============================] - 11s 55ms/step - loss: nan - mae: nan - mse: nan\n",
      "Epoch 2/10\n",
      "83/83 [==============================] - 5s 55ms/step - loss: nan - mae: nan - mse: nan\n",
      "Epoch 3/10\n",
      "83/83 [==============================] - 4s 53ms/step - loss: nan - mae: nan - mse: nan\n",
      "Epoch 4/10\n",
      "83/83 [==============================] - 5s 55ms/step - loss: nan - mae: nan - mse: nan\n",
      "Epoch 5/10\n",
      "83/83 [==============================] - 4s 52ms/step - loss: nan - mae: nan - mse: nan\n",
      "Epoch 6/10\n",
      "83/83 [==============================] - 5s 54ms/step - loss: nan - mae: nan - mse: nan\n",
      "Epoch 7/10\n",
      "83/83 [==============================] - 5s 56ms/step - loss: nan - mae: nan - mse: nan\n",
      "Epoch 8/10\n",
      "83/83 [==============================] - 5s 57ms/step - loss: nan - mae: nan - mse: nan\n",
      "Epoch 9/10\n",
      "83/83 [==============================] - 5s 54ms/step - loss: nan - mae: nan - mse: nan\n",
      "Epoch 10/10\n",
      "83/83 [==============================] - 5s 56ms/step - loss: nan - mae: nan - mse: nan\n"
     ]
    }
   ],
   "source": [
    "model.compile(\n",
    "    optimizer = tf.keras.optimizers.Adam(learning_rate = .01),\n",
    "    loss = tf.keras.losses.MAE,\n",
    "    metrics = ['mae', 'mse']\n",
    ")\n",
    "\n",
    "history_1 = model.fit(\n",
    "    train_windows,\n",
    "    train_labels,\n",
    "    epochs=10,\n",
    ")"
   ]
  },
  {
   "cell_type": "markdown",
   "id": "7e385c6d",
   "metadata": {},
   "source": [
    "Gradient explosion occurs on less number of epochs"
   ]
  },
  {
   "cell_type": "code",
   "execution_count": 38,
   "id": "2839a801",
   "metadata": {},
   "outputs": [],
   "source": [
    "model_2 = tf.keras.Sequential([\n",
    "    tf.keras.layers.Input(shape=(WINDOW_SIZE)),\n",
    "    tf.keras.layers.Lambda(lambda x: tf.expand_dims(x, axis=1)),\n",
    "    tf.keras.layers.RNN(LTCCell(32), time_major=True, return_sequences=True),\n",
    "    \n",
    "    # Add LSTM to handle gradient explosion\n",
    "    tf.keras.layers.LSTM(32),\n",
    "    tf.keras.layers.Dense(HORIZON, activation='linear')\n",
    "])"
   ]
  },
  {
   "cell_type": "code",
   "execution_count": 39,
   "id": "4e98bf5f",
   "metadata": {},
   "outputs": [],
   "source": [
    "model_2.compile(\n",
    "    optimizer = tf.keras.optimizers.Adam(\n",
    "        learning_rate = .01,\n",
    "        clipnorm = 1\n",
    "    ),\n",
    "    loss = tf.keras.losses.MAE,\n",
    "    metrics = ['mae', 'mse']\n",
    ")"
   ]
  },
  {
   "cell_type": "code",
   "execution_count": 40,
   "id": "dc333126",
   "metadata": {
    "scrolled": true
   },
   "outputs": [
    {
     "name": "stdout",
     "output_type": "stream",
     "text": [
      "Epoch 1/10\n",
      "83/83 [==============================] - 17s 64ms/step - loss: 4408.7490 - mae: 4408.7490 - mse: 43579188.0000\n",
      "Epoch 2/10\n",
      "83/83 [==============================] - 5s 61ms/step - loss: 4386.4106 - mae: 4386.4106 - mse: 43382904.0000\n",
      "Epoch 3/10\n",
      "83/83 [==============================] - 5s 60ms/step - loss: 4365.0845 - mae: 4365.0845 - mse: 43197352.0000\n",
      "Epoch 4/10\n",
      "83/83 [==============================] - 5s 64ms/step - loss: 4343.8691 - mae: 4343.8691 - mse: 43011292.0000\n",
      "Epoch 5/10\n",
      "83/83 [==============================] - 5s 60ms/step - loss: 4322.7026 - mae: 4322.7026 - mse: 42828548.0000\n",
      "Epoch 6/10\n",
      "83/83 [==============================] - 5s 66ms/step - loss: 4301.5674 - mae: 4301.5674 - mse: 42646140.0000\n",
      "Epoch 7/10\n",
      "83/83 [==============================] - 5s 59ms/step - loss: 4280.5024 - mae: 4280.5024 - mse: 42466120.0000\n",
      "Epoch 8/10\n",
      "83/83 [==============================] - 5s 56ms/step - loss: 4259.5601 - mae: 4259.5601 - mse: 42284752.0000\n",
      "Epoch 9/10\n",
      "83/83 [==============================] - 5s 63ms/step - loss: 4238.7085 - mae: 4238.7085 - mse: 42102640.0000\n",
      "Epoch 10/10\n",
      "83/83 [==============================] - 5s 58ms/step - loss: 4217.9141 - mae: 4217.9141 - mse: 41926176.0000\n"
     ]
    }
   ],
   "source": [
    "history_2 = model_2.fit(\n",
    "    train_windows,\n",
    "    train_labels,\n",
    "    epochs=10,\n",
    ")"
   ]
  },
  {
   "cell_type": "code",
   "execution_count": 43,
   "id": "dac3a458",
   "metadata": {},
   "outputs": [],
   "source": [
    "def plot_loss_curves(history):\n",
    "    loss = history.history['loss']\n",
    "    mae = history.history['mae']\n",
    "    mse = history.history['mse']\n",
    "\n",
    "    epochs = range(len(history.history['loss']))\n",
    "\n",
    "    # Plot loss\n",
    "    plt.plot(epochs, loss, label='training_loss')\n",
    "    plt.plot(epochs, mae, label='MAE')\n",
    "    plt.plot(epochs, mse, label='MSE')\n",
    "    plt.title('Loss')\n",
    "    plt.xlabel('Epochs')\n",
    "    plt.legend()"
   ]
  },
  {
   "cell_type": "code",
   "execution_count": 44,
   "id": "f3d01ddc",
   "metadata": {},
   "outputs": [
    {
     "data": {
      "image/png": "[encoded data removed]",
      "text/plain": [
       "<Figure size 432x288 with 1 Axes>"
      ]
     },
     "metadata": {
      "needs_background": "light"
     },
     "output_type": "display_data"
    }
   ],
   "source": [
    "plot_loss_curves(history_2)"
   ]
  },
  {
   "cell_type": "code",
   "execution_count": null,
   "id": "c54dd5b0",
   "metadata": {},
   "outputs": [],
   "source": []
  }
 ],
 "metadata": {
  "kernelspec": {
   "display_name": "Python 3 (ipykernel)",
   "language": "python",
   "name": "python3"
  },
  "language_info": {
   "codemirror_mode": {
    "name": "ipython",
    "version": 3
   },
   "file_extension": ".py",
   "mimetype": "text/x-python",
   "name": "python",
   "nbconvert_exporter": "python",
   "pygments_lexer": "ipython3",
   "version": "3.7.4"
  },
  "vscode": {
   "interpreter": {
    "hash": "ed21d5474e4d34402bc17b7e6678523875881abed00fabc0c331683181e10ba6"
   }
  }
 },
 "nbformat": 4,
 "nbformat_minor": 5
}
