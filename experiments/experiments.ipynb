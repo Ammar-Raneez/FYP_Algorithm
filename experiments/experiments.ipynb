{
 "cells": [
  {
   "cell_type": "code",
   "execution_count": 1,
   "id": "3bd1578e",
   "metadata": {},
   "outputs": [],
   "source": [
    "import numpy as np\n",
    "import pandas as pd\n",
    "import matplotlib.pyplot as plt\n",
    "import tensorflow as tf"
   ]
  },
  {
   "cell_type": "code",
   "execution_count": 2,
   "id": "c9ba0f99",
   "metadata": {},
   "outputs": [],
   "source": [
    "data = pd.read_json('prices.json')"
   ]
  },
  {
   "cell_type": "code",
   "execution_count": 4,
   "id": "9d9f6cdd",
   "metadata": {},
   "outputs": [
    {
     "data": {
      "text/html": [
       "<div>\n",
       "<style scoped>\n",
       "    .dataframe tbody tr th:only-of-type {\n",
       "        vertical-align: middle;\n",
       "    }\n",
       "\n",
       "    .dataframe tbody tr th {\n",
       "        vertical-align: top;\n",
       "    }\n",
       "\n",
       "    .dataframe thead th {\n",
       "        text-align: right;\n",
       "    }\n",
       "</style>\n",
       "<table border=\"1\" class=\"dataframe\">\n",
       "  <thead>\n",
       "    <tr style=\"text-align: right;\">\n",
       "      <th></th>\n",
       "      <th>direction_color</th>\n",
       "      <th>rowDate</th>\n",
       "      <th>rowDateRaw</th>\n",
       "      <th>rowDateTimestamp</th>\n",
       "      <th>last_close</th>\n",
       "      <th>last_open</th>\n",
       "      <th>last_max</th>\n",
       "      <th>last_min</th>\n",
       "      <th>volume</th>\n",
       "      <th>volumeRaw</th>\n",
       "      <th>change_precent</th>\n",
       "      <th>last_closeRaw</th>\n",
       "      <th>last_openRaw</th>\n",
       "      <th>last_maxRaw</th>\n",
       "      <th>last_minRaw</th>\n",
       "      <th>change_precentRaw</th>\n",
       "    </tr>\n",
       "  </thead>\n",
       "  <tbody>\n",
       "    <tr>\n",
       "      <th>0</th>\n",
       "      <td>greenFont</td>\n",
       "      <td>Sep 28, 2022</td>\n",
       "      <td>1664323200</td>\n",
       "      <td>2022-09-28T00:00:00Z</td>\n",
       "      <td>19,411.0</td>\n",
       "      <td>19,083.4</td>\n",
       "      <td>19,757.8</td>\n",
       "      <td>18,505.3</td>\n",
       "      <td>581.19K</td>\n",
       "      <td>581187</td>\n",
       "      <td>1.73</td>\n",
       "      <td>19410.955078</td>\n",
       "      <td>19083.367188</td>\n",
       "      <td>19757.818359</td>\n",
       "      <td>18505.343750</td>\n",
       "      <td>1.729255</td>\n",
       "    </tr>\n",
       "    <tr>\n",
       "      <th>1</th>\n",
       "      <td>redFont</td>\n",
       "      <td>Sep 27, 2022</td>\n",
       "      <td>1664236800</td>\n",
       "      <td>2022-09-27T00:00:00Z</td>\n",
       "      <td>19,081.0</td>\n",
       "      <td>19,228.8</td>\n",
       "      <td>20,361.2</td>\n",
       "      <td>18,850.4</td>\n",
       "      <td>660.12K</td>\n",
       "      <td>660115</td>\n",
       "      <td>-0.75</td>\n",
       "      <td>19080.996094</td>\n",
       "      <td>19228.771484</td>\n",
       "      <td>20361.214844</td>\n",
       "      <td>18850.421875</td>\n",
       "      <td>-0.752554</td>\n",
       "    </tr>\n",
       "    <tr>\n",
       "      <th>2</th>\n",
       "      <td>greenFont</td>\n",
       "      <td>Sep 26, 2022</td>\n",
       "      <td>1664150400</td>\n",
       "      <td>2022-09-26T00:00:00Z</td>\n",
       "      <td>19,225.7</td>\n",
       "      <td>18,803.1</td>\n",
       "      <td>19,304.8</td>\n",
       "      <td>18,695.2</td>\n",
       "      <td>516.03K</td>\n",
       "      <td>516032</td>\n",
       "      <td>2.25</td>\n",
       "      <td>19225.679688</td>\n",
       "      <td>18803.099609</td>\n",
       "      <td>19304.773438</td>\n",
       "      <td>18695.179688</td>\n",
       "      <td>2.246992</td>\n",
       "    </tr>\n",
       "    <tr>\n",
       "      <th>3</th>\n",
       "      <td>redFont</td>\n",
       "      <td>Sep 25, 2022</td>\n",
       "      <td>1664064000</td>\n",
       "      <td>2022-09-25T00:00:00Z</td>\n",
       "      <td>18,803.2</td>\n",
       "      <td>18,925.1</td>\n",
       "      <td>19,125.1</td>\n",
       "      <td>18,659.6</td>\n",
       "      <td>209.71K</td>\n",
       "      <td>209712</td>\n",
       "      <td>-0.64</td>\n",
       "      <td>18803.173828</td>\n",
       "      <td>18925.144531</td>\n",
       "      <td>19125.066406</td>\n",
       "      <td>18659.615234</td>\n",
       "      <td>-0.644777</td>\n",
       "    </tr>\n",
       "    <tr>\n",
       "      <th>4</th>\n",
       "      <td>redFont</td>\n",
       "      <td>Sep 24, 2022</td>\n",
       "      <td>1663977600</td>\n",
       "      <td>2022-09-24T00:00:00Z</td>\n",
       "      <td>18,925.2</td>\n",
       "      <td>19,288.4</td>\n",
       "      <td>19,310.6</td>\n",
       "      <td>18,812.0</td>\n",
       "      <td>258.50K</td>\n",
       "      <td>258501</td>\n",
       "      <td>-1.91</td>\n",
       "      <td>18925.199219</td>\n",
       "      <td>19288.394531</td>\n",
       "      <td>19310.556641</td>\n",
       "      <td>18811.955078</td>\n",
       "      <td>-1.909106</td>\n",
       "    </tr>\n",
       "  </tbody>\n",
       "</table>\n",
       "</div>"
      ],
      "text/plain": [
       "  direction_color       rowDate  rowDateRaw      rowDateTimestamp last_close  \\\n",
       "0       greenFont  Sep 28, 2022  1664323200  2022-09-28T00:00:00Z   19,411.0   \n",
       "1         redFont  Sep 27, 2022  1664236800  2022-09-27T00:00:00Z   19,081.0   \n",
       "2       greenFont  Sep 26, 2022  1664150400  2022-09-26T00:00:00Z   19,225.7   \n",
       "3         redFont  Sep 25, 2022  1664064000  2022-09-25T00:00:00Z   18,803.2   \n",
       "4         redFont  Sep 24, 2022  1663977600  2022-09-24T00:00:00Z   18,925.2   \n",
       "\n",
       "  last_open  last_max  last_min   volume  volumeRaw  change_precent  \\\n",
       "0  19,083.4  19,757.8  18,505.3  581.19K     581187            1.73   \n",
       "1  19,228.8  20,361.2  18,850.4  660.12K     660115           -0.75   \n",
       "2  18,803.1  19,304.8  18,695.2  516.03K     516032            2.25   \n",
       "3  18,925.1  19,125.1  18,659.6  209.71K     209712           -0.64   \n",
       "4  19,288.4  19,310.6  18,812.0  258.50K     258501           -1.91   \n",
       "\n",
       "   last_closeRaw  last_openRaw   last_maxRaw   last_minRaw  change_precentRaw  \n",
       "0   19410.955078  19083.367188  19757.818359  18505.343750           1.729255  \n",
       "1   19080.996094  19228.771484  20361.214844  18850.421875          -0.752554  \n",
       "2   19225.679688  18803.099609  19304.773438  18695.179688           2.246992  \n",
       "3   18803.173828  18925.144531  19125.066406  18659.615234          -0.644777  \n",
       "4   18925.199219  19288.394531  19310.556641  18811.955078          -1.909106  "
      ]
     },
     "execution_count": 4,
     "metadata": {},
     "output_type": "execute_result"
    }
   ],
   "source": [
    "data.head()"
   ]
  },
  {
   "cell_type": "code",
   "execution_count": 5,
   "id": "5643aa5d",
   "metadata": {},
   "outputs": [
    {
     "data": {
      "text/html": [
       "<div>\n",
       "<style scoped>\n",
       "    .dataframe tbody tr th:only-of-type {\n",
       "        vertical-align: middle;\n",
       "    }\n",
       "\n",
       "    .dataframe tbody tr th {\n",
       "        vertical-align: top;\n",
       "    }\n",
       "\n",
       "    .dataframe thead th {\n",
       "        text-align: right;\n",
       "    }\n",
       "</style>\n",
       "<table border=\"1\" class=\"dataframe\">\n",
       "  <thead>\n",
       "    <tr style=\"text-align: right;\">\n",
       "      <th></th>\n",
       "      <th>rowDate</th>\n",
       "      <th>last_closeRaw</th>\n",
       "      <th>last_openRaw</th>\n",
       "      <th>last_maxRaw</th>\n",
       "      <th>last_minRaw</th>\n",
       "    </tr>\n",
       "  </thead>\n",
       "  <tbody>\n",
       "    <tr>\n",
       "      <th>0</th>\n",
       "      <td>Sep 28, 2022</td>\n",
       "      <td>19410.955078</td>\n",
       "      <td>19083.367188</td>\n",
       "      <td>19757.818359</td>\n",
       "      <td>18505.343750</td>\n",
       "    </tr>\n",
       "    <tr>\n",
       "      <th>1</th>\n",
       "      <td>Sep 27, 2022</td>\n",
       "      <td>19080.996094</td>\n",
       "      <td>19228.771484</td>\n",
       "      <td>20361.214844</td>\n",
       "      <td>18850.421875</td>\n",
       "    </tr>\n",
       "    <tr>\n",
       "      <th>2</th>\n",
       "      <td>Sep 26, 2022</td>\n",
       "      <td>19225.679688</td>\n",
       "      <td>18803.099609</td>\n",
       "      <td>19304.773438</td>\n",
       "      <td>18695.179688</td>\n",
       "    </tr>\n",
       "    <tr>\n",
       "      <th>3</th>\n",
       "      <td>Sep 25, 2022</td>\n",
       "      <td>18803.173828</td>\n",
       "      <td>18925.144531</td>\n",
       "      <td>19125.066406</td>\n",
       "      <td>18659.615234</td>\n",
       "    </tr>\n",
       "    <tr>\n",
       "      <th>4</th>\n",
       "      <td>Sep 24, 2022</td>\n",
       "      <td>18925.199219</td>\n",
       "      <td>19288.394531</td>\n",
       "      <td>19310.556641</td>\n",
       "      <td>18811.955078</td>\n",
       "    </tr>\n",
       "  </tbody>\n",
       "</table>\n",
       "</div>"
      ],
      "text/plain": [
       "        rowDate  last_closeRaw  last_openRaw   last_maxRaw   last_minRaw\n",
       "0  Sep 28, 2022   19410.955078  19083.367188  19757.818359  18505.343750\n",
       "1  Sep 27, 2022   19080.996094  19228.771484  20361.214844  18850.421875\n",
       "2  Sep 26, 2022   19225.679688  18803.099609  19304.773438  18695.179688\n",
       "3  Sep 25, 2022   18803.173828  18925.144531  19125.066406  18659.615234\n",
       "4  Sep 24, 2022   18925.199219  19288.394531  19310.556641  18811.955078"
      ]
     },
     "execution_count": 5,
     "metadata": {},
     "output_type": "execute_result"
    }
   ],
   "source": [
    "# Remove unnecessary columns\n",
    "data.drop(columns=[\n",
    "  'direction_color',\n",
    "  'rowDateRaw',\n",
    "  'rowDateTimestamp',\n",
    "\n",
    "  # Quantity of btc bought or sold\n",
    "  'volume',\n",
    "  'volumeRaw',\n",
    "  'change_precent',\n",
    "  'change_precentRaw',\n",
    "  'last_close',\n",
    "  'last_open',\n",
    "  'last_max',\n",
    "  'last_min'\n",
    "  ],\n",
    "  inplace=True\n",
    ")\n",
    "\n",
    "data.head()"
   ]
  },
  {
   "cell_type": "code",
   "execution_count": 6,
   "id": "d7c2c5af",
   "metadata": {},
   "outputs": [
    {
     "name": "stdout",
     "output_type": "stream",
     "text": [
      "<class 'pandas.core.frame.DataFrame'>\n",
      "RangeIndex: 1828 entries, 0 to 1827\n",
      "Data columns (total 5 columns):\n",
      " #   Column         Non-Null Count  Dtype  \n",
      "---  ------         --------------  -----  \n",
      " 0   rowDate        1828 non-null   object \n",
      " 1   last_closeRaw  1828 non-null   float64\n",
      " 2   last_openRaw   1828 non-null   float64\n",
      " 3   last_maxRaw    1828 non-null   float64\n",
      " 4   last_minRaw    1828 non-null   float64\n",
      "dtypes: float64(4), object(1)\n",
      "memory usage: 71.5+ KB\n"
     ]
    }
   ],
   "source": [
    "data.info()"
   ]
  },
  {
   "cell_type": "code",
   "execution_count": 7,
   "id": "fd6defd7",
   "metadata": {},
   "outputs": [],
   "source": [
    "# Convert date object to datetime\n",
    "data['rowDate'] = pd.to_datetime(data['rowDate'])\n",
    "\n",
    "# Convert values to floats\n",
    "data = data.astype({\n",
    "    'last_closeRaw': 'float',\n",
    "    'last_openRaw': 'float',\n",
    "    'last_maxRaw': 'float',\n",
    "    'last_minRaw': 'float'\n",
    "})"
   ]
  },
  {
   "cell_type": "code",
   "execution_count": 8,
   "id": "1eb21dbb",
   "metadata": {},
   "outputs": [
    {
     "name": "stdout",
     "output_type": "stream",
     "text": [
      "<class 'pandas.core.frame.DataFrame'>\n",
      "RangeIndex: 1828 entries, 0 to 1827\n",
      "Data columns (total 5 columns):\n",
      " #   Column         Non-Null Count  Dtype         \n",
      "---  ------         --------------  -----         \n",
      " 0   rowDate        1828 non-null   datetime64[ns]\n",
      " 1   last_closeRaw  1828 non-null   float64       \n",
      " 2   last_openRaw   1828 non-null   float64       \n",
      " 3   last_maxRaw    1828 non-null   float64       \n",
      " 4   last_minRaw    1828 non-null   float64       \n",
      "dtypes: datetime64[ns](1), float64(4)\n",
      "memory usage: 71.5 KB\n"
     ]
    }
   ],
   "source": [
    "data.info()"
   ]
  },
  {
   "cell_type": "code",
   "execution_count": 9,
   "id": "0836bfb3",
   "metadata": {},
   "outputs": [
    {
     "data": {
      "text/html": [
       "<div>\n",
       "<style scoped>\n",
       "    .dataframe tbody tr th:only-of-type {\n",
       "        vertical-align: middle;\n",
       "    }\n",
       "\n",
       "    .dataframe tbody tr th {\n",
       "        vertical-align: top;\n",
       "    }\n",
       "\n",
       "    .dataframe thead th {\n",
       "        text-align: right;\n",
       "    }\n",
       "</style>\n",
       "<table border=\"1\" class=\"dataframe\">\n",
       "  <thead>\n",
       "    <tr style=\"text-align: right;\">\n",
       "      <th></th>\n",
       "      <th>rowDate</th>\n",
       "      <th>last_closeRaw</th>\n",
       "      <th>last_openRaw</th>\n",
       "      <th>last_maxRaw</th>\n",
       "      <th>last_minRaw</th>\n",
       "    </tr>\n",
       "  </thead>\n",
       "  <tbody>\n",
       "    <tr>\n",
       "      <th>0</th>\n",
       "      <td>2022-09-28</td>\n",
       "      <td>19410.955078</td>\n",
       "      <td>19083.367188</td>\n",
       "      <td>19757.818359</td>\n",
       "      <td>18505.343750</td>\n",
       "    </tr>\n",
       "    <tr>\n",
       "      <th>1</th>\n",
       "      <td>2022-09-27</td>\n",
       "      <td>19080.996094</td>\n",
       "      <td>19228.771484</td>\n",
       "      <td>20361.214844</td>\n",
       "      <td>18850.421875</td>\n",
       "    </tr>\n",
       "    <tr>\n",
       "      <th>2</th>\n",
       "      <td>2022-09-26</td>\n",
       "      <td>19225.679688</td>\n",
       "      <td>18803.099609</td>\n",
       "      <td>19304.773438</td>\n",
       "      <td>18695.179688</td>\n",
       "    </tr>\n",
       "    <tr>\n",
       "      <th>3</th>\n",
       "      <td>2022-09-25</td>\n",
       "      <td>18803.173828</td>\n",
       "      <td>18925.144531</td>\n",
       "      <td>19125.066406</td>\n",
       "      <td>18659.615234</td>\n",
       "    </tr>\n",
       "    <tr>\n",
       "      <th>4</th>\n",
       "      <td>2022-09-24</td>\n",
       "      <td>18925.199219</td>\n",
       "      <td>19288.394531</td>\n",
       "      <td>19310.556641</td>\n",
       "      <td>18811.955078</td>\n",
       "    </tr>\n",
       "  </tbody>\n",
       "</table>\n",
       "</div>"
      ],
      "text/plain": [
       "     rowDate  last_closeRaw  last_openRaw   last_maxRaw   last_minRaw\n",
       "0 2022-09-28   19410.955078  19083.367188  19757.818359  18505.343750\n",
       "1 2022-09-27   19080.996094  19228.771484  20361.214844  18850.421875\n",
       "2 2022-09-26   19225.679688  18803.099609  19304.773438  18695.179688\n",
       "3 2022-09-25   18803.173828  18925.144531  19125.066406  18659.615234\n",
       "4 2022-09-24   18925.199219  19288.394531  19310.556641  18811.955078"
      ]
     },
     "execution_count": 9,
     "metadata": {},
     "output_type": "execute_result"
    }
   ],
   "source": [
    "data.head()"
   ]
  },
  {
   "cell_type": "code",
   "execution_count": 10,
   "id": "6a8ec0d6",
   "metadata": {},
   "outputs": [],
   "source": [
    "data.rename(\n",
    "    columns={\n",
    "        'last_closeRaw': 'close',\n",
    "        'last_openRaw': 'open',\n",
    "        'last_maxRaw': 'high',\n",
    "        'last_minRaw': 'low',\n",
    "        'rowDate': 'Date'\n",
    "    },\n",
    "    inplace=True\n",
    ")"
   ]
  },
  {
   "cell_type": "code",
   "execution_count": 11,
   "id": "3533749a",
   "metadata": {},
   "outputs": [
    {
     "data": {
      "text/html": [
       "<div>\n",
       "<style scoped>\n",
       "    .dataframe tbody tr th:only-of-type {\n",
       "        vertical-align: middle;\n",
       "    }\n",
       "\n",
       "    .dataframe tbody tr th {\n",
       "        vertical-align: top;\n",
       "    }\n",
       "\n",
       "    .dataframe thead th {\n",
       "        text-align: right;\n",
       "    }\n",
       "</style>\n",
       "<table border=\"1\" class=\"dataframe\">\n",
       "  <thead>\n",
       "    <tr style=\"text-align: right;\">\n",
       "      <th></th>\n",
       "      <th>Date</th>\n",
       "      <th>close</th>\n",
       "      <th>open</th>\n",
       "      <th>high</th>\n",
       "      <th>low</th>\n",
       "    </tr>\n",
       "  </thead>\n",
       "  <tbody>\n",
       "    <tr>\n",
       "      <th>0</th>\n",
       "      <td>2022-09-28</td>\n",
       "      <td>19410.955078</td>\n",
       "      <td>19083.367188</td>\n",
       "      <td>19757.818359</td>\n",
       "      <td>18505.343750</td>\n",
       "    </tr>\n",
       "    <tr>\n",
       "      <th>1</th>\n",
       "      <td>2022-09-27</td>\n",
       "      <td>19080.996094</td>\n",
       "      <td>19228.771484</td>\n",
       "      <td>20361.214844</td>\n",
       "      <td>18850.421875</td>\n",
       "    </tr>\n",
       "    <tr>\n",
       "      <th>2</th>\n",
       "      <td>2022-09-26</td>\n",
       "      <td>19225.679688</td>\n",
       "      <td>18803.099609</td>\n",
       "      <td>19304.773438</td>\n",
       "      <td>18695.179688</td>\n",
       "    </tr>\n",
       "    <tr>\n",
       "      <th>3</th>\n",
       "      <td>2022-09-25</td>\n",
       "      <td>18803.173828</td>\n",
       "      <td>18925.144531</td>\n",
       "      <td>19125.066406</td>\n",
       "      <td>18659.615234</td>\n",
       "    </tr>\n",
       "    <tr>\n",
       "      <th>4</th>\n",
       "      <td>2022-09-24</td>\n",
       "      <td>18925.199219</td>\n",
       "      <td>19288.394531</td>\n",
       "      <td>19310.556641</td>\n",
       "      <td>18811.955078</td>\n",
       "    </tr>\n",
       "  </tbody>\n",
       "</table>\n",
       "</div>"
      ],
      "text/plain": [
       "        Date         close          open          high           low\n",
       "0 2022-09-28  19410.955078  19083.367188  19757.818359  18505.343750\n",
       "1 2022-09-27  19080.996094  19228.771484  20361.214844  18850.421875\n",
       "2 2022-09-26  19225.679688  18803.099609  19304.773438  18695.179688\n",
       "3 2022-09-25  18803.173828  18925.144531  19125.066406  18659.615234\n",
       "4 2022-09-24  18925.199219  19288.394531  19310.556641  18811.955078"
      ]
     },
     "execution_count": 11,
     "metadata": {},
     "output_type": "execute_result"
    }
   ],
   "source": [
    "data.head()"
   ]
  },
  {
   "cell_type": "code",
   "execution_count": 12,
   "id": "0521e3df",
   "metadata": {},
   "outputs": [],
   "source": [
    "data.set_index('Date', inplace=True)"
   ]
  },
  {
   "cell_type": "code",
   "execution_count": 14,
   "id": "1fde8512",
   "metadata": {},
   "outputs": [],
   "source": [
    "btc_prices = pd.DataFrame(data['close']).rename(columns={ 'close': 'Price' })"
   ]
  },
  {
   "cell_type": "code",
   "execution_count": 15,
   "id": "3b31619a",
   "metadata": {},
   "outputs": [
    {
     "data": {
      "text/html": [
       "<div>\n",
       "<style scoped>\n",
       "    .dataframe tbody tr th:only-of-type {\n",
       "        vertical-align: middle;\n",
       "    }\n",
       "\n",
       "    .dataframe tbody tr th {\n",
       "        vertical-align: top;\n",
       "    }\n",
       "\n",
       "    .dataframe thead th {\n",
       "        text-align: right;\n",
       "    }\n",
       "</style>\n",
       "<table border=\"1\" class=\"dataframe\">\n",
       "  <thead>\n",
       "    <tr style=\"text-align: right;\">\n",
       "      <th></th>\n",
       "      <th>Price</th>\n",
       "    </tr>\n",
       "    <tr>\n",
       "      <th>Date</th>\n",
       "      <th></th>\n",
       "    </tr>\n",
       "  </thead>\n",
       "  <tbody>\n",
       "    <tr>\n",
       "      <th>2022-09-28</th>\n",
       "      <td>19410.955078</td>\n",
       "    </tr>\n",
       "    <tr>\n",
       "      <th>2022-09-27</th>\n",
       "      <td>19080.996094</td>\n",
       "    </tr>\n",
       "    <tr>\n",
       "      <th>2022-09-26</th>\n",
       "      <td>19225.679688</td>\n",
       "    </tr>\n",
       "    <tr>\n",
       "      <th>2022-09-25</th>\n",
       "      <td>18803.173828</td>\n",
       "    </tr>\n",
       "    <tr>\n",
       "      <th>2022-09-24</th>\n",
       "      <td>18925.199219</td>\n",
       "    </tr>\n",
       "  </tbody>\n",
       "</table>\n",
       "</div>"
      ],
      "text/plain": [
       "                   Price\n",
       "Date                    \n",
       "2022-09-28  19410.955078\n",
       "2022-09-27  19080.996094\n",
       "2022-09-26  19225.679688\n",
       "2022-09-25  18803.173828\n",
       "2022-09-24  18925.199219"
      ]
     },
     "execution_count": 15,
     "metadata": {},
     "output_type": "execute_result"
    }
   ],
   "source": [
    "btc_prices.head()"
   ]
  },
  {
   "cell_type": "code",
   "execution_count": 16,
   "id": "d33fd9d5",
   "metadata": {},
   "outputs": [
    {
     "data": {
      "image/png": "[encoded data removed]",
      "text/plain": [
       "<Figure size 720x504 with 1 Axes>"
      ]
     },
     "metadata": {
      "needs_background": "light"
     },
     "output_type": "display_data"
    }
   ],
   "source": [
    "# Visualize closing prices\n",
    "import matplotlib.pyplot as plt\n",
    "\n",
    "btc_prices.plot(figsize=(10, 7))\n",
    "plt.ylabel('BTC Price')\n",
    "plt.title('Price of Bitcoin from Oct 2014 to Oct 2022', fontsize=16)\n",
    "plt.legend(fontsize=14);"
   ]
  },
  {
   "cell_type": "code",
   "execution_count": 21,
   "id": "f51d9e86",
   "metadata": {},
   "outputs": [
    {
     "data": {
      "text/html": [
       "<div>\n",
       "<style scoped>\n",
       "    .dataframe tbody tr th:only-of-type {\n",
       "        vertical-align: middle;\n",
       "    }\n",
       "\n",
       "    .dataframe tbody tr th {\n",
       "        vertical-align: top;\n",
       "    }\n",
       "\n",
       "    .dataframe thead th {\n",
       "        text-align: right;\n",
       "    }\n",
       "</style>\n",
       "<table border=\"1\" class=\"dataframe\">\n",
       "  <thead>\n",
       "    <tr style=\"text-align: right;\">\n",
       "      <th></th>\n",
       "      <th>Price</th>\n",
       "    </tr>\n",
       "    <tr>\n",
       "      <th>Date</th>\n",
       "      <th></th>\n",
       "    </tr>\n",
       "  </thead>\n",
       "  <tbody>\n",
       "    <tr>\n",
       "      <th>2017-09-27</th>\n",
       "      <td>4212.200195</td>\n",
       "    </tr>\n",
       "    <tr>\n",
       "      <th>2017-09-28</th>\n",
       "      <td>4195.649902</td>\n",
       "    </tr>\n",
       "    <tr>\n",
       "      <th>2017-09-29</th>\n",
       "      <td>4172.790039</td>\n",
       "    </tr>\n",
       "    <tr>\n",
       "      <th>2017-09-30</th>\n",
       "      <td>4360.620117</td>\n",
       "    </tr>\n",
       "    <tr>\n",
       "      <th>2017-10-01</th>\n",
       "      <td>4403.089844</td>\n",
       "    </tr>\n",
       "  </tbody>\n",
       "</table>\n",
       "</div>"
      ],
      "text/plain": [
       "                  Price\n",
       "Date                   \n",
       "2017-09-27  4212.200195\n",
       "2017-09-28  4195.649902\n",
       "2017-09-29  4172.790039\n",
       "2017-09-30  4360.620117\n",
       "2017-10-01  4403.089844"
      ]
     },
     "execution_count": 21,
     "metadata": {},
     "output_type": "execute_result"
    }
   ],
   "source": [
    "# Sort ascending order of prices\n",
    "btc_prices.sort_values('Date', inplace=True)\n",
    "btc_prices.head()"
   ]
  },
  {
   "cell_type": "code",
   "execution_count": 22,
   "id": "ae9f158d",
   "metadata": {},
   "outputs": [],
   "source": [
    "timesteps = btc_prices.index.to_numpy()\n",
    "prices = btc_prices['Price'].to_numpy()"
   ]
  },
  {
   "cell_type": "code",
   "execution_count": 23,
   "id": "cfc8baeb",
   "metadata": {},
   "outputs": [
    {
     "data": {
      "text/plain": [
       "(array(['2017-09-27T00:00:00.000000000', '2017-09-28T00:00:00.000000000',\n",
       "        '2017-09-29T00:00:00.000000000', ...,\n",
       "        '2022-09-26T00:00:00.000000000', '2022-09-27T00:00:00.000000000',\n",
       "        '2022-09-28T00:00:00.000000000'], dtype='datetime64[ns]'),\n",
       " array([ 4212.20019531,  4195.64990234,  4172.79003906, ...,\n",
       "        19225.6796875 , 19080.99609375, 19410.95507812]))"
      ]
     },
     "execution_count": 23,
     "metadata": {},
     "output_type": "execute_result"
    }
   ],
   "source": [
    "timesteps, prices"
   ]
  },
  {
   "cell_type": "code",
   "execution_count": 24,
   "id": "81af47f3",
   "metadata": {},
   "outputs": [
    {
     "data": {
      "text/plain": [
       "((1462,), (366,), (1462,), (366,))"
      ]
     },
     "execution_count": 24,
     "metadata": {},
     "output_type": "execute_result"
    }
   ],
   "source": [
    "# Create sequential splits at a specified point (80% train, 20% test)\n",
    "split_size = int(.8 * len(prices))\n",
    "\n",
    "X_train, y_train = timesteps[:split_size], prices[:split_size]\n",
    "X_test, y_test = timesteps[split_size:], prices[split_size:]\n",
    "\n",
    "X_train.shape, X_test.shape, y_train.shape, y_test.shape"
   ]
  },
  {
   "cell_type": "code",
   "execution_count": 26,
   "id": "ee13c3f9",
   "metadata": {},
   "outputs": [],
   "source": [
    "# Create a helper plotting function\n",
    "def plot_time_series(timesteps, prices, format='.', start=0, end=None, label=None):\n",
    "    plt.plot(timesteps[start:end], prices[start:end], format, label=label)\n",
    "    plt.xlabel('Date')\n",
    "    plt.ylabel('Price')\n",
    "    if label:\n",
    "        plt.legend(fontsize=14)\n",
    "\n",
    "    # Display a grid for easier measurement readings\n",
    "    plt.grid(True)"
   ]
  },
  {
   "cell_type": "code",
   "execution_count": 27,
   "id": "6241d337",
   "metadata": {
    "scrolled": false
   },
   "outputs": [
    {
     "data": {
      "image/png": "[encoded data removed]",
      "text/plain": [
       "<Figure size 432x288 with 1 Axes>"
      ]
     },
     "metadata": {
      "needs_background": "light"
     },
     "output_type": "display_data"
    }
   ],
   "source": [
    "plot_time_series(X_train, y_train, label='Training data')\n",
    "plot_time_series(X_test, y_test, label='Test data')"
   ]
  },
  {
   "cell_type": "code",
   "execution_count": null,
   "id": "ed7e94de",
   "metadata": {},
   "outputs": [],
   "source": []
  }
 ],
 "metadata": {
  "kernelspec": {
   "display_name": "Python 3 (ipykernel)",
   "language": "python",
   "name": "python3"
  },
  "language_info": {
   "codemirror_mode": {
    "name": "ipython",
    "version": 3
   },
   "file_extension": ".py",
   "mimetype": "text/x-python",
   "name": "python",
   "nbconvert_exporter": "python",
   "pygments_lexer": "ipython3",
   "version": "3.7.4"
  },
  "vscode": {
   "interpreter": {
    "hash": "ed21d5474e4d34402bc17b7e6678523875881abed00fabc0c331683181e10ba6"
   }
  }
 },
 "nbformat": 4,
 "nbformat_minor": 5
}
